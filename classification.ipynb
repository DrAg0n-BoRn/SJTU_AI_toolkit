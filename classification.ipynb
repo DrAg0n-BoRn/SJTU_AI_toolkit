{
 "cells": [
  {
   "cell_type": "code",
   "execution_count": null,
   "metadata": {},
   "outputs": [],
   "source": [
    "import torch\n",
    "from torch import nn\n",
    "from torchvision import transforms\n",
    "from helper_tools.datasetmaster import make_vision_dataset\n",
    "from helper_tools.trainer import MyTrainer\n",
    "from gradcam import custom_alexnet"
   ]
  },
  {
   "cell_type": "code",
   "execution_count": null,
   "metadata": {},
   "outputs": [],
   "source": [
    "# Path to datasets\n",
    "train_path = \"../Data/Train Dataset/\"\n",
    "test_path = \"../Data/Test Dataset/\""
   ]
  },
  {
   "cell_type": "code",
   "execution_count": null,
   "metadata": {},
   "outputs": [],
   "source": [
    "# Custom transformation (Images are already in the required size)\n",
    "transform = transforms.Compose([\n",
    "                transforms.Grayscale(num_output_channels=1),\n",
    "                transforms.ToTensor(),\n",
    "            ])\n",
    "\n",
    "# Load Datasets\n",
    "train_dataset = make_vision_dataset(inputs=train_path, labels=None, transform=transform)\n",
    "test_dataset = make_vision_dataset(inputs=test_path, labels=None, transform=transform)\n",
    "# Labels\n",
    "test_dataset.class_to_idx # type: ignore"
   ]
  },
  {
   "cell_type": "code",
   "execution_count": null,
   "metadata": {},
   "outputs": [],
   "source": [
    "# Load custom AlexNet\n",
    "alexnet = custom_alexnet()\n",
    "\n",
    "# Create trainer\n",
    "trainer = MyTrainer(model=alexnet, train_dataset=train_dataset, test_dataset=test_dataset, kind=\"classification\",\n",
    "                    criterion=nn.CrossEntropyLoss(), batch_size=20, device=\"cuda\", dataloader_workers=4, learn_rate=0.0005)"
   ]
  },
  {
   "cell_type": "code",
   "execution_count": null,
   "metadata": {},
   "outputs": [],
   "source": [
    "trainer.auto_train(epochs=10, patience=2, cmap='Blues', roc=True)"
   ]
  },
  {
   "cell_type": "code",
   "execution_count": null,
   "metadata": {},
   "outputs": [],
   "source": [
    "# Save weights\n",
    "torch.save(alexnet.state_dict(), 'model_weights.pth')"
   ]
  }
 ],
 "metadata": {
  "kernelspec": {
   "display_name": "venv",
   "language": "python",
   "name": "python3"
  },
  "language_info": {
   "codemirror_mode": {
    "name": "ipython",
    "version": 3
   },
   "file_extension": ".py",
   "mimetype": "text/x-python",
   "name": "python",
   "nbconvert_exporter": "python",
   "pygments_lexer": "ipython3",
   "version": "3.11.8"
  }
 },
 "nbformat": 4,
 "nbformat_minor": 2
}
